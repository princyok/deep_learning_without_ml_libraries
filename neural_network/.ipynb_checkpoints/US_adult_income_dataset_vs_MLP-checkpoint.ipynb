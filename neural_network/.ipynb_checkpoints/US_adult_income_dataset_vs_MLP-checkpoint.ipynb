{
 "cells": [
  {
   "cell_type": "markdown",
   "metadata": {},
   "source": [
    "# Demonstration using the US adult income data\n",
    "\n",
    "The US adult income dataset contains data on 48842 individuals including their income (classed into 2 categories: over 50k or under 50k), age, education, etc. The primary goal is to determine whether an individual makes over 50k a year or not.\n",
    "\n",
    "Source: https://archive.ics.uci.edu/ml/datasets/adult\n",
    "\n",
    "**This Jupyter notebook will put to the test the feedfoward neural network (multilayer perceptron) that was written from scratch without dependence on any ML libraries.**"
   ]
  },
  {
   "cell_type": "code",
   "execution_count": 1,
   "metadata": {},
   "outputs": [],
   "source": [
    "import pandas as pd\n",
    "import numpy as np\n",
    "from matplotlib import pyplot\n",
    "from sklearn import model_selection, preprocessing\n",
    "import sys"
   ]
  },
  {
   "cell_type": "code",
   "execution_count": 2,
   "metadata": {},
   "outputs": [],
   "source": [
    "import my_multilayer_peceptron_network_oop as nn"
   ]
  },
  {
   "cell_type": "code",
   "execution_count": 3,
   "metadata": {},
   "outputs": [],
   "source": [
    "data=pd.read_csv(\"../datasets/adult-income-data/adult.csv\")"
   ]
  },
  {
   "cell_type": "code",
   "execution_count": 4,
   "metadata": {},
   "outputs": [
    {
     "data": {
      "text/html": [
       "<div>\n",
       "<style scoped>\n",
       "    .dataframe tbody tr th:only-of-type {\n",
       "        vertical-align: middle;\n",
       "    }\n",
       "\n",
       "    .dataframe tbody tr th {\n",
       "        vertical-align: top;\n",
       "    }\n",
       "\n",
       "    .dataframe thead th {\n",
       "        text-align: right;\n",
       "    }\n",
       "</style>\n",
       "<table border=\"1\" class=\"dataframe\">\n",
       "  <thead>\n",
       "    <tr style=\"text-align: right;\">\n",
       "      <th></th>\n",
       "      <th>age</th>\n",
       "      <th>workclass</th>\n",
       "      <th>fnlwgt</th>\n",
       "      <th>education</th>\n",
       "      <th>education.num</th>\n",
       "      <th>marital.status</th>\n",
       "      <th>occupation</th>\n",
       "      <th>relationship</th>\n",
       "      <th>race</th>\n",
       "      <th>sex</th>\n",
       "      <th>capital.gain</th>\n",
       "      <th>capital.loss</th>\n",
       "      <th>hours.per.week</th>\n",
       "      <th>native.country</th>\n",
       "      <th>income</th>\n",
       "    </tr>\n",
       "  </thead>\n",
       "  <tbody>\n",
       "    <tr>\n",
       "      <td>0</td>\n",
       "      <td>90</td>\n",
       "      <td>?</td>\n",
       "      <td>77053</td>\n",
       "      <td>HS-grad</td>\n",
       "      <td>9</td>\n",
       "      <td>Widowed</td>\n",
       "      <td>?</td>\n",
       "      <td>Not-in-family</td>\n",
       "      <td>White</td>\n",
       "      <td>Female</td>\n",
       "      <td>0</td>\n",
       "      <td>4356</td>\n",
       "      <td>40</td>\n",
       "      <td>United-States</td>\n",
       "      <td>&lt;=50K</td>\n",
       "    </tr>\n",
       "    <tr>\n",
       "      <td>1</td>\n",
       "      <td>82</td>\n",
       "      <td>Private</td>\n",
       "      <td>132870</td>\n",
       "      <td>HS-grad</td>\n",
       "      <td>9</td>\n",
       "      <td>Widowed</td>\n",
       "      <td>Exec-managerial</td>\n",
       "      <td>Not-in-family</td>\n",
       "      <td>White</td>\n",
       "      <td>Female</td>\n",
       "      <td>0</td>\n",
       "      <td>4356</td>\n",
       "      <td>18</td>\n",
       "      <td>United-States</td>\n",
       "      <td>&lt;=50K</td>\n",
       "    </tr>\n",
       "    <tr>\n",
       "      <td>2</td>\n",
       "      <td>66</td>\n",
       "      <td>?</td>\n",
       "      <td>186061</td>\n",
       "      <td>Some-college</td>\n",
       "      <td>10</td>\n",
       "      <td>Widowed</td>\n",
       "      <td>?</td>\n",
       "      <td>Unmarried</td>\n",
       "      <td>Black</td>\n",
       "      <td>Female</td>\n",
       "      <td>0</td>\n",
       "      <td>4356</td>\n",
       "      <td>40</td>\n",
       "      <td>United-States</td>\n",
       "      <td>&lt;=50K</td>\n",
       "    </tr>\n",
       "    <tr>\n",
       "      <td>3</td>\n",
       "      <td>54</td>\n",
       "      <td>Private</td>\n",
       "      <td>140359</td>\n",
       "      <td>7th-8th</td>\n",
       "      <td>4</td>\n",
       "      <td>Divorced</td>\n",
       "      <td>Machine-op-inspct</td>\n",
       "      <td>Unmarried</td>\n",
       "      <td>White</td>\n",
       "      <td>Female</td>\n",
       "      <td>0</td>\n",
       "      <td>3900</td>\n",
       "      <td>40</td>\n",
       "      <td>United-States</td>\n",
       "      <td>&lt;=50K</td>\n",
       "    </tr>\n",
       "    <tr>\n",
       "      <td>4</td>\n",
       "      <td>41</td>\n",
       "      <td>Private</td>\n",
       "      <td>264663</td>\n",
       "      <td>Some-college</td>\n",
       "      <td>10</td>\n",
       "      <td>Separated</td>\n",
       "      <td>Prof-specialty</td>\n",
       "      <td>Own-child</td>\n",
       "      <td>White</td>\n",
       "      <td>Female</td>\n",
       "      <td>0</td>\n",
       "      <td>3900</td>\n",
       "      <td>40</td>\n",
       "      <td>United-States</td>\n",
       "      <td>&lt;=50K</td>\n",
       "    </tr>\n",
       "  </tbody>\n",
       "</table>\n",
       "</div>"
      ],
      "text/plain": [
       "   age workclass  fnlwgt     education  education.num marital.status  \\\n",
       "0   90         ?   77053       HS-grad              9        Widowed   \n",
       "1   82   Private  132870       HS-grad              9        Widowed   \n",
       "2   66         ?  186061  Some-college             10        Widowed   \n",
       "3   54   Private  140359       7th-8th              4       Divorced   \n",
       "4   41   Private  264663  Some-college             10      Separated   \n",
       "\n",
       "          occupation   relationship   race     sex  capital.gain  \\\n",
       "0                  ?  Not-in-family  White  Female             0   \n",
       "1    Exec-managerial  Not-in-family  White  Female             0   \n",
       "2                  ?      Unmarried  Black  Female             0   \n",
       "3  Machine-op-inspct      Unmarried  White  Female             0   \n",
       "4     Prof-specialty      Own-child  White  Female             0   \n",
       "\n",
       "   capital.loss  hours.per.week native.country income  \n",
       "0          4356              40  United-States  <=50K  \n",
       "1          4356              18  United-States  <=50K  \n",
       "2          4356              40  United-States  <=50K  \n",
       "3          3900              40  United-States  <=50K  \n",
       "4          3900              40  United-States  <=50K  "
      ]
     },
     "metadata": {},
     "output_type": "display_data"
    },
    {
     "data": {
      "text/html": [
       "<div>\n",
       "<style scoped>\n",
       "    .dataframe tbody tr th:only-of-type {\n",
       "        vertical-align: middle;\n",
       "    }\n",
       "\n",
       "    .dataframe tbody tr th {\n",
       "        vertical-align: top;\n",
       "    }\n",
       "\n",
       "    .dataframe thead th {\n",
       "        text-align: right;\n",
       "    }\n",
       "</style>\n",
       "<table border=\"1\" class=\"dataframe\">\n",
       "  <thead>\n",
       "    <tr style=\"text-align: right;\">\n",
       "      <th></th>\n",
       "      <th>age</th>\n",
       "      <th>fnlwgt</th>\n",
       "      <th>education.num</th>\n",
       "      <th>capital.gain</th>\n",
       "      <th>capital.loss</th>\n",
       "      <th>hours.per.week</th>\n",
       "    </tr>\n",
       "  </thead>\n",
       "  <tbody>\n",
       "    <tr>\n",
       "      <td>count</td>\n",
       "      <td>32561.000000</td>\n",
       "      <td>3.256100e+04</td>\n",
       "      <td>32561.000000</td>\n",
       "      <td>32561.000000</td>\n",
       "      <td>32561.000000</td>\n",
       "      <td>32561.000000</td>\n",
       "    </tr>\n",
       "    <tr>\n",
       "      <td>mean</td>\n",
       "      <td>38.581647</td>\n",
       "      <td>1.897784e+05</td>\n",
       "      <td>10.080679</td>\n",
       "      <td>1077.648844</td>\n",
       "      <td>87.303830</td>\n",
       "      <td>40.437456</td>\n",
       "    </tr>\n",
       "    <tr>\n",
       "      <td>std</td>\n",
       "      <td>13.640433</td>\n",
       "      <td>1.055500e+05</td>\n",
       "      <td>2.572720</td>\n",
       "      <td>7385.292085</td>\n",
       "      <td>402.960219</td>\n",
       "      <td>12.347429</td>\n",
       "    </tr>\n",
       "    <tr>\n",
       "      <td>min</td>\n",
       "      <td>17.000000</td>\n",
       "      <td>1.228500e+04</td>\n",
       "      <td>1.000000</td>\n",
       "      <td>0.000000</td>\n",
       "      <td>0.000000</td>\n",
       "      <td>1.000000</td>\n",
       "    </tr>\n",
       "    <tr>\n",
       "      <td>25%</td>\n",
       "      <td>28.000000</td>\n",
       "      <td>1.178270e+05</td>\n",
       "      <td>9.000000</td>\n",
       "      <td>0.000000</td>\n",
       "      <td>0.000000</td>\n",
       "      <td>40.000000</td>\n",
       "    </tr>\n",
       "    <tr>\n",
       "      <td>50%</td>\n",
       "      <td>37.000000</td>\n",
       "      <td>1.783560e+05</td>\n",
       "      <td>10.000000</td>\n",
       "      <td>0.000000</td>\n",
       "      <td>0.000000</td>\n",
       "      <td>40.000000</td>\n",
       "    </tr>\n",
       "    <tr>\n",
       "      <td>75%</td>\n",
       "      <td>48.000000</td>\n",
       "      <td>2.370510e+05</td>\n",
       "      <td>12.000000</td>\n",
       "      <td>0.000000</td>\n",
       "      <td>0.000000</td>\n",
       "      <td>45.000000</td>\n",
       "    </tr>\n",
       "    <tr>\n",
       "      <td>max</td>\n",
       "      <td>90.000000</td>\n",
       "      <td>1.484705e+06</td>\n",
       "      <td>16.000000</td>\n",
       "      <td>99999.000000</td>\n",
       "      <td>4356.000000</td>\n",
       "      <td>99.000000</td>\n",
       "    </tr>\n",
       "  </tbody>\n",
       "</table>\n",
       "</div>"
      ],
      "text/plain": [
       "                age        fnlwgt  education.num  capital.gain  capital.loss  \\\n",
       "count  32561.000000  3.256100e+04   32561.000000  32561.000000  32561.000000   \n",
       "mean      38.581647  1.897784e+05      10.080679   1077.648844     87.303830   \n",
       "std       13.640433  1.055500e+05       2.572720   7385.292085    402.960219   \n",
       "min       17.000000  1.228500e+04       1.000000      0.000000      0.000000   \n",
       "25%       28.000000  1.178270e+05       9.000000      0.000000      0.000000   \n",
       "50%       37.000000  1.783560e+05      10.000000      0.000000      0.000000   \n",
       "75%       48.000000  2.370510e+05      12.000000      0.000000      0.000000   \n",
       "max       90.000000  1.484705e+06      16.000000  99999.000000   4356.000000   \n",
       "\n",
       "       hours.per.week  \n",
       "count    32561.000000  \n",
       "mean        40.437456  \n",
       "std         12.347429  \n",
       "min          1.000000  \n",
       "25%         40.000000  \n",
       "50%         40.000000  \n",
       "75%         45.000000  \n",
       "max         99.000000  "
      ]
     },
     "metadata": {},
     "output_type": "display_data"
    }
   ],
   "source": [
    "display(data.head())\n",
    "display(data.describe())"
   ]
  },
  {
   "cell_type": "markdown",
   "metadata": {},
   "source": [
    "# Preprocessing of data"
   ]
  },
  {
   "cell_type": "markdown",
   "metadata": {},
   "source": [
    "Drop missing values by converting all forms of missing values (e.g. \"?\") to np.NaN, and then drop the NaN."
   ]
  },
  {
   "cell_type": "code",
   "execution_count": 5,
   "metadata": {},
   "outputs": [],
   "source": [
    "data.replace(to_replace=\"?\", value=np.NaN, inplace=True)"
   ]
  },
  {
   "cell_type": "code",
   "execution_count": 6,
   "metadata": {},
   "outputs": [],
   "source": [
    "data.dropna(inplace=True)"
   ]
  },
  {
   "cell_type": "markdown",
   "metadata": {},
   "source": [
    "Find categorical columns by using the fact that columns with strings are stored as object dtype. Then convert the categorical columns to numerically ordinal and then to onehot. \n",
    "\n",
    "For instance, if each entry in a column can only take on one of the following strings \"aaa\", \"bb\", and \"cc\", which means it's a categorical column, then the column can be coverted to only take on the integers 1, 2, and 3 as a numerical representation for \"aaa\", \"bb\", and \"cc\"."
   ]
  },
  {
   "cell_type": "code",
   "execution_count": 7,
   "metadata": {},
   "outputs": [],
   "source": [
    "categoricalColsMask=(data.dtypes==object)\n",
    "categoricalColNames=data.dtypes.loc[categoricalColsMask].index"
   ]
  },
  {
   "cell_type": "code",
   "execution_count": 8,
   "metadata": {},
   "outputs": [],
   "source": [
    "# Convert categorical columns to numerically ordinal.\n",
    "\n",
    "cat_ordinal_map=dict()\n",
    "for colName in categoricalColNames:\n",
    "    cat_ordinal=[]\n",
    "    for i,clss in enumerate(data.loc[:,colName].unique()):\n",
    "        mask=data.loc[:,colName]==clss\n",
    "        data.loc[mask,colName]=i\n",
    "        cat_ordinal.append((clss, i))\n",
    "    cat_ordinal_map[colName]=cat_ordinal"
   ]
  },
  {
   "cell_type": "markdown",
   "metadata": {},
   "source": [
    "Scale the data using minmax normalization."
   ]
  },
  {
   "cell_type": "code",
   "execution_count": 9,
   "metadata": {},
   "outputs": [],
   "source": [
    "# Code lifted from another of my projects:  https://github.com/princyok/my_ml_support\n",
    "\n",
    "def minmaxNormalize(df, customMinMax=None):\n",
    "    \"\"\"\n",
    "    Scales each variable in the data such that the minimum and maximum values \n",
    "    are rescaled to 0 and 1, and values that are inbetween are scaled proportionally.\n",
    "    \"\"\"\n",
    "    df=df.copy()\n",
    "    if customMinMax==None:\n",
    "        df=(df-df.min())/(df.max()-df.min())\n",
    "    else:\n",
    "        for colName in customMinMax:\n",
    "            min_, max_ = customMinMax.get(colName)\n",
    "            df.loc[:,colName]=(df.loc[:,colName]-min_)/(max_ - min_)\n",
    "    return df"
   ]
  },
  {
   "cell_type": "code",
   "execution_count": 10,
   "metadata": {},
   "outputs": [],
   "source": [
    "nonCategColsMask=~data.columns.isin(categoricalColNames)\n",
    "data.loc[:,nonCategColsMask]=minmaxNormalize(data.loc[:,nonCategColsMask])"
   ]
  },
  {
   "cell_type": "code",
   "execution_count": 11,
   "metadata": {},
   "outputs": [],
   "source": [
    "# Code lifted from another of my projects:  https://github.com/princyok/my_ml_support\n",
    "\n",
    "# Note: the same can be achieved using sklearn.preprocessing.OneHotEncoder with sklearn.compose.make_column_transformer.\n",
    "\n",
    "def oneHotEncode(df, colNames, drop=False):\n",
    "    \"\"\"\n",
    "    Applies onehot encoding to specified columns.\n",
    "\n",
    "    Parameters:\n",
    "\n",
    "        df: the DataFrame.\n",
    "\n",
    "        colNames: the colunm (str or array-like) or columns (array-like) to encode.\n",
    "\n",
    "    Returns:\n",
    "        a DataFrame with the onehot-encoded data (original columns are excluded).\n",
    "    \"\"\"\n",
    "    if isinstance(colNames,str): colNames=[colNames]\n",
    "    colNames=np.array(colNames) # covert to np array in case it already isn't.\n",
    "    df=df.copy()\n",
    "\n",
    "    # identify all the binary categorical columns (col with 2 or less unique values).\n",
    "    colNames_ordinal_encode=[]\n",
    "    locs=[]\n",
    "    for i,colName in enumerate(colNames):\n",
    "        cats=df.loc[:,colName].unique()\n",
    "        if len(cats)<=2:\n",
    "            colNames_ordinal_encode.append(colName)\n",
    "            locs.append(i)   \n",
    "\n",
    "    # apply ordinal encoding to binary categorical columns.\n",
    "    # Same result as onehote encoding, without generatin new columns.\n",
    "    if len(colNames_ordinal_encode)>0:\n",
    "\n",
    "        colNames=np.delete(colNames,locs) # remove the already encoded binary categorical columns.\n",
    "\n",
    "        encoder=preprocessing.OrdinalEncoder(dtype=np.int32)\n",
    "\n",
    "        # convert to np array and ensure its 2D.\n",
    "        temp=df.loc[:,colNames_ordinal_encode].to_numpy().reshape(-1,len(colNames_ordinal_encode))\n",
    "        df.loc[:,colNames_ordinal_encode]=encoder.fit_transform(temp)\n",
    "\n",
    "        # ensure dtypes of the encoded columns are int.\n",
    "        for c in colNames_ordinal_encode:\n",
    "            # for some reason, doing it all at once for all columns doesn't do anything.\n",
    "            df.loc[:,c]=df.loc[:,c].astype(\"int32\") \n",
    "\n",
    "    # apply onehot-encoding to the rest.\n",
    "    encoder=preprocessing.OneHotEncoder(dtype=np.int32)\n",
    "    encodedArr=encoder.fit_transform(df.loc[:,colNames].to_numpy()) # returns a scipy csr_matrix object.\n",
    "    encodedArr=encodedArr.toarray() # convert to np array.\n",
    "\n",
    "    newColNames=encoder.get_feature_names(input_features=colNames) # returns an np array of lists, each with one elem (the column name).\n",
    "    newColNames=newColNames.ravel() # unpack the np array to just an array of column names.\n",
    "\n",
    "    # combine the newly onehot-encoded array to the df.\n",
    "    df=df.join(pd.DataFrame(encodedArr, columns=newColNames, index=df.index))\n",
    "\n",
    "    # omit the old columns.\n",
    "    colNames_to_retain=list(colNames_ordinal_encode)+list(newColNames)\n",
    "    df=df.loc[:,colNames_to_retain]\n",
    "\n",
    "    return df"
   ]
  },
  {
   "cell_type": "code",
   "execution_count": 12,
   "metadata": {},
   "outputs": [
    {
     "name": "stderr",
     "output_type": "stream",
     "text": [
      "C:\\Users\\princ\\Anaconda3\\lib\\site-packages\\sklearn\\preprocessing\\_encoders.py:415: FutureWarning: The handling of integer data will change in version 0.22. Currently, the categories are determined based on the range [0, max(values)], while in the future they will be determined based on the unique values.\n",
      "If you want the future behaviour and silence this warning, you can specify \"categories='auto'\".\n",
      "In case you used a LabelEncoder before this OneHotEncoder to convert the categories to integers, then you can now use the OneHotEncoder directly.\n",
      "  warnings.warn(msg, FutureWarning)\n"
     ]
    }
   ],
   "source": [
    "# convert categorical columns (nominal) to onehot columns.\n",
    "\n",
    "data = oneHotEncode(data,colNames=categoricalColNames,drop=True)"
   ]
  },
  {
   "cell_type": "code",
   "execution_count": 13,
   "metadata": {},
   "outputs": [
    {
     "data": {
      "text/html": [
       "<div>\n",
       "<style scoped>\n",
       "    .dataframe tbody tr th:only-of-type {\n",
       "        vertical-align: middle;\n",
       "    }\n",
       "\n",
       "    .dataframe tbody tr th {\n",
       "        vertical-align: top;\n",
       "    }\n",
       "\n",
       "    .dataframe thead th {\n",
       "        text-align: right;\n",
       "    }\n",
       "</style>\n",
       "<table border=\"1\" class=\"dataframe\">\n",
       "  <thead>\n",
       "    <tr style=\"text-align: right;\">\n",
       "      <th></th>\n",
       "      <th>sex</th>\n",
       "      <th>income</th>\n",
       "      <th>workclass_0.0</th>\n",
       "      <th>workclass_1.0</th>\n",
       "      <th>workclass_2.0</th>\n",
       "      <th>workclass_3.0</th>\n",
       "      <th>workclass_4.0</th>\n",
       "      <th>workclass_5.0</th>\n",
       "      <th>workclass_6.0</th>\n",
       "      <th>education_0.0</th>\n",
       "      <th>...</th>\n",
       "      <th>native.country_31.0</th>\n",
       "      <th>native.country_32.0</th>\n",
       "      <th>native.country_33.0</th>\n",
       "      <th>native.country_34.0</th>\n",
       "      <th>native.country_35.0</th>\n",
       "      <th>native.country_36.0</th>\n",
       "      <th>native.country_37.0</th>\n",
       "      <th>native.country_38.0</th>\n",
       "      <th>native.country_39.0</th>\n",
       "      <th>native.country_40.0</th>\n",
       "    </tr>\n",
       "  </thead>\n",
       "  <tbody>\n",
       "    <tr>\n",
       "      <td>1</td>\n",
       "      <td>0</td>\n",
       "      <td>0</td>\n",
       "      <td>1</td>\n",
       "      <td>0</td>\n",
       "      <td>0</td>\n",
       "      <td>0</td>\n",
       "      <td>0</td>\n",
       "      <td>0</td>\n",
       "      <td>0</td>\n",
       "      <td>1</td>\n",
       "      <td>...</td>\n",
       "      <td>0</td>\n",
       "      <td>0</td>\n",
       "      <td>0</td>\n",
       "      <td>0</td>\n",
       "      <td>0</td>\n",
       "      <td>0</td>\n",
       "      <td>0</td>\n",
       "      <td>0</td>\n",
       "      <td>0</td>\n",
       "      <td>0</td>\n",
       "    </tr>\n",
       "    <tr>\n",
       "      <td>3</td>\n",
       "      <td>0</td>\n",
       "      <td>0</td>\n",
       "      <td>1</td>\n",
       "      <td>0</td>\n",
       "      <td>0</td>\n",
       "      <td>0</td>\n",
       "      <td>0</td>\n",
       "      <td>0</td>\n",
       "      <td>0</td>\n",
       "      <td>0</td>\n",
       "      <td>...</td>\n",
       "      <td>0</td>\n",
       "      <td>0</td>\n",
       "      <td>0</td>\n",
       "      <td>0</td>\n",
       "      <td>0</td>\n",
       "      <td>0</td>\n",
       "      <td>0</td>\n",
       "      <td>0</td>\n",
       "      <td>0</td>\n",
       "      <td>0</td>\n",
       "    </tr>\n",
       "    <tr>\n",
       "      <td>4</td>\n",
       "      <td>0</td>\n",
       "      <td>0</td>\n",
       "      <td>1</td>\n",
       "      <td>0</td>\n",
       "      <td>0</td>\n",
       "      <td>0</td>\n",
       "      <td>0</td>\n",
       "      <td>0</td>\n",
       "      <td>0</td>\n",
       "      <td>0</td>\n",
       "      <td>...</td>\n",
       "      <td>0</td>\n",
       "      <td>0</td>\n",
       "      <td>0</td>\n",
       "      <td>0</td>\n",
       "      <td>0</td>\n",
       "      <td>0</td>\n",
       "      <td>0</td>\n",
       "      <td>0</td>\n",
       "      <td>0</td>\n",
       "      <td>0</td>\n",
       "    </tr>\n",
       "    <tr>\n",
       "      <td>5</td>\n",
       "      <td>0</td>\n",
       "      <td>0</td>\n",
       "      <td>1</td>\n",
       "      <td>0</td>\n",
       "      <td>0</td>\n",
       "      <td>0</td>\n",
       "      <td>0</td>\n",
       "      <td>0</td>\n",
       "      <td>0</td>\n",
       "      <td>1</td>\n",
       "      <td>...</td>\n",
       "      <td>0</td>\n",
       "      <td>0</td>\n",
       "      <td>0</td>\n",
       "      <td>0</td>\n",
       "      <td>0</td>\n",
       "      <td>0</td>\n",
       "      <td>0</td>\n",
       "      <td>0</td>\n",
       "      <td>0</td>\n",
       "      <td>0</td>\n",
       "    </tr>\n",
       "    <tr>\n",
       "      <td>6</td>\n",
       "      <td>1</td>\n",
       "      <td>0</td>\n",
       "      <td>1</td>\n",
       "      <td>0</td>\n",
       "      <td>0</td>\n",
       "      <td>0</td>\n",
       "      <td>0</td>\n",
       "      <td>0</td>\n",
       "      <td>0</td>\n",
       "      <td>0</td>\n",
       "      <td>...</td>\n",
       "      <td>0</td>\n",
       "      <td>0</td>\n",
       "      <td>0</td>\n",
       "      <td>0</td>\n",
       "      <td>0</td>\n",
       "      <td>0</td>\n",
       "      <td>0</td>\n",
       "      <td>0</td>\n",
       "      <td>0</td>\n",
       "      <td>0</td>\n",
       "    </tr>\n",
       "  </tbody>\n",
       "</table>\n",
       "<p>5 rows × 98 columns</p>\n",
       "</div>"
      ],
      "text/plain": [
       "   sex  income  workclass_0.0  workclass_1.0  workclass_2.0  workclass_3.0  \\\n",
       "1    0       0              1              0              0              0   \n",
       "3    0       0              1              0              0              0   \n",
       "4    0       0              1              0              0              0   \n",
       "5    0       0              1              0              0              0   \n",
       "6    1       0              1              0              0              0   \n",
       "\n",
       "   workclass_4.0  workclass_5.0  workclass_6.0  education_0.0  ...  \\\n",
       "1              0              0              0              1  ...   \n",
       "3              0              0              0              0  ...   \n",
       "4              0              0              0              0  ...   \n",
       "5              0              0              0              1  ...   \n",
       "6              0              0              0              0  ...   \n",
       "\n",
       "   native.country_31.0  native.country_32.0  native.country_33.0  \\\n",
       "1                    0                    0                    0   \n",
       "3                    0                    0                    0   \n",
       "4                    0                    0                    0   \n",
       "5                    0                    0                    0   \n",
       "6                    0                    0                    0   \n",
       "\n",
       "   native.country_34.0  native.country_35.0  native.country_36.0  \\\n",
       "1                    0                    0                    0   \n",
       "3                    0                    0                    0   \n",
       "4                    0                    0                    0   \n",
       "5                    0                    0                    0   \n",
       "6                    0                    0                    0   \n",
       "\n",
       "   native.country_37.0  native.country_38.0  native.country_39.0  \\\n",
       "1                    0                    0                    0   \n",
       "3                    0                    0                    0   \n",
       "4                    0                    0                    0   \n",
       "5                    0                    0                    0   \n",
       "6                    0                    0                    0   \n",
       "\n",
       "   native.country_40.0  \n",
       "1                    0  \n",
       "3                    0  \n",
       "4                    0  \n",
       "5                    0  \n",
       "6                    0  \n",
       "\n",
       "[5 rows x 98 columns]"
      ]
     },
     "execution_count": 13,
     "metadata": {},
     "output_type": "execute_result"
    }
   ],
   "source": [
    "data.head()"
   ]
  },
  {
   "cell_type": "code",
   "execution_count": 14,
   "metadata": {},
   "outputs": [
    {
     "name": "stdout",
     "output_type": "stream",
     "text": [
      "number of records for classes 0 22654\n",
      "number of records for classes 1 7508\n"
     ]
    }
   ],
   "source": [
    "mask_income_0 = (data[\"income\"]==0)\n",
    "\n",
    "print(\"number of records for classes 0\", len(data.loc[mask_income_0, \"income\"].index))\n",
    "print(\"number of records for classes 1\", len(data.loc[~mask_income_0, \"income\"].index))"
   ]
  },
  {
   "cell_type": "markdown",
   "metadata": {},
   "source": [
    "We observe that the distribution of the classes is very unbalanced. We resample the training set to have equal number of records across the classes. This enables the network to not give preference to one class over the other due to class imbalance."
   ]
  },
  {
   "cell_type": "code",
   "execution_count": 15,
   "metadata": {},
   "outputs": [],
   "source": [
    "# Code lifted from another of my projects:  https://github.com/princyok/my_ml_support\n",
    "\n",
    "\n",
    "def resampleToBalance(df, classColName):\n",
    "\n",
    "    df=df.copy()\n",
    "\n",
    "    # get number of instances in the smallest class (by instances).\n",
    "    numberOfInstances=df.groupby(by=classColName).size().min()\n",
    "\n",
    "    classes=df.loc[:,classColName].unique()\n",
    "    result=pd.DataFrame(columns=df.columns)\n",
    "    origDtypes=df.dtypes\n",
    "\n",
    "    for cls in classes:\n",
    "        selection=df[df.loc[:,classColName]==cls].iloc[0:numberOfInstances].copy()\n",
    "\n",
    "        # reset index and drop it into the df as a new col.\n",
    "        selection.reset_index(inplace=True)\n",
    "\n",
    "        result=result.append(selection, ignore_index=True,sort=False)\n",
    "    # ensure that the dropped index col is integer.    \n",
    "    result.loc[:,\"index\"]=result.loc[:,\"index\"].astype('int32')\n",
    "\n",
    "    # set the dropped index col as the new index.\n",
    "    result.set_index(keys=\"index\", drop=True, inplace=True)\n",
    "\n",
    "    # set the dtypes back to those in the original df.\n",
    "    for colName,dtype in origDtypes.to_dict().items():\n",
    "        result.loc[:,colName]=result.loc[:,colName].astype(dtype)\n",
    "\n",
    "    return result.sort_index(axis=0) # restore original order, in case if originally sequential."
   ]
  },
  {
   "cell_type": "code",
   "execution_count": 16,
   "metadata": {},
   "outputs": [],
   "source": [
    "data=resampleToBalance(df=data.sample(n=len(data.index)), classColName=\"income\")"
   ]
  },
  {
   "cell_type": "markdown",
   "metadata": {},
   "source": [
    "Split the dataset into training and test sets, as well as x and y."
   ]
  },
  {
   "cell_type": "code",
   "execution_count": 17,
   "metadata": {},
   "outputs": [],
   "source": [
    "featuresMask=(data.columns!=\"income\")\n",
    "targetMask=(data.columns==\"income\")\n"
   ]
  },
  {
   "cell_type": "code",
   "execution_count": 18,
   "metadata": {},
   "outputs": [],
   "source": [
    "data_train, data_test=model_selection.train_test_split(data,train_size=0.9, random_state=5)"
   ]
  },
  {
   "cell_type": "code",
   "execution_count": 19,
   "metadata": {},
   "outputs": [],
   "source": [
    "x_train=data_train.loc[:,featuresMask].to_numpy().T\n",
    "y_train=data_train.loc[:,targetMask].to_numpy().T.reshape(1,-1)\n",
    "\n",
    "x_test=data_test.loc[:,featuresMask].to_numpy().T\n",
    "y_test=data_test.loc[:,targetMask].to_numpy().T.reshape(1,-1)"
   ]
  },
  {
   "cell_type": "markdown",
   "metadata": {},
   "source": [
    "# Learning"
   ]
  },
  {
   "cell_type": "markdown",
   "metadata": {},
   "source": [
    "Biuld the layers for the network"
   ]
  },
  {
   "cell_type": "code",
   "execution_count": 20,
   "metadata": {},
   "outputs": [],
   "source": [
    "l1=nn.Layer(\"relu\", 10)\n",
    "l2=nn.Layer(\"relu\", 20)\n",
    "l3=nn.Layer(\"relu\", 40)\n",
    "l4=nn.Layer(\"relu\", 80)\n",
    "l5=nn.Layer(\"logistic\",1)"
   ]
  },
  {
   "cell_type": "markdown",
   "metadata": {},
   "source": [
    "Instantiate the network and add the layers to it."
   ]
  },
  {
   "cell_type": "code",
   "execution_count": 21,
   "metadata": {},
   "outputs": [],
   "source": [
    "layers=[l1, l2, l3, l4, l5]\n",
    "network=nn.Network(X=x_train,Y=y_train)\n",
    "network.add_layers(layers)"
   ]
  },
  {
   "cell_type": "markdown",
   "metadata": {},
   "source": [
    "Initialize the parameters of the network."
   ]
  },
  {
   "cell_type": "code",
   "execution_count": 22,
   "metadata": {},
   "outputs": [],
   "source": [
    "network.initialize_parameters(factor=0.01)"
   ]
  },
  {
   "cell_type": "markdown",
   "metadata": {},
   "source": [
    "Instantiate an archiver for the network. The archiver will cache components of the network as specified."
   ]
  },
  {
   "cell_type": "code",
   "execution_count": 23,
   "metadata": {},
   "outputs": [],
   "source": [
    "archiver=nn.TrainingArchiver(10) # cache all components every 10 iterations.\n",
    "archiver.set_archiving_verbosities(accuracy=True) # we want information about accuracy to be printed in each caching event.\n",
    "\n",
    "network.add_training_archiver(archiver)"
   ]
  },
  {
   "cell_type": "markdown",
   "metadata": {},
   "source": [
    "Train the network"
   ]
  },
  {
   "cell_type": "code",
   "execution_count": 24,
   "metadata": {},
   "outputs": [
    {
     "name": "stdout",
     "output_type": "stream",
     "text": [
      "Training Begins...\n",
      "training accuracy, iter. 10:  0.72412\n",
      "validation accuracy, iter. 10:  0.74249\n",
      "training accuracy, iter. 20:  0.74707\n",
      "validation accuracy, iter. 20:  0.75936\n",
      "training accuracy, iter. 30:  0.72168\n",
      "validation accuracy, iter. 30:  0.74338\n",
      "training accuracy, iter. 40:  0.77295\n",
      "validation accuracy, iter. 40:  0.76217\n",
      "training accuracy, iter. 50:  0.77344\n",
      "validation accuracy, iter. 50:  0.76698\n",
      "training accuracy, iter. 60:  0.75684\n",
      "validation accuracy, iter. 60:  0.76854\n",
      "training accuracy, iter. 70:  0.77051\n",
      "validation accuracy, iter. 70:  0.76691\n",
      "training accuracy, iter. 80:  0.73047\n",
      "validation accuracy, iter. 80:  0.76358\n",
      "training accuracy, iter. 90:  0.76562\n",
      "validation accuracy, iter. 90:  0.77668\n",
      "training accuracy, iter. 100:  0.75732\n",
      "validation accuracy, iter. 100:  0.76846\n",
      "training accuracy, iter. 110:  0.79736\n",
      "validation accuracy, iter. 110:  0.78282\n",
      "training accuracy, iter. 120:  0.75928\n",
      "validation accuracy, iter. 120:  0.77705\n",
      "training accuracy, iter. 130:  0.79395\n",
      "validation accuracy, iter. 130:  0.77875\n",
      "training accuracy, iter. 140:  0.79785\n",
      "validation accuracy, iter. 140:  0.78644\n",
      "training accuracy, iter. 150:  0.78955\n",
      "validation accuracy, iter. 150:  0.77594\n",
      "training accuracy, iter. 160:  0.79443\n",
      "validation accuracy, iter. 160:  0.79296\n",
      "training accuracy, iter. 170:  0.77295\n",
      "validation accuracy, iter. 170:  0.78844\n",
      "training accuracy, iter. 180:  0.78613\n",
      "validation accuracy, iter. 180:  0.77993\n",
      "training accuracy, iter. 190:  0.80371\n",
      "validation accuracy, iter. 190:  0.78607\n",
      "training accuracy, iter. 200:  0.76514\n",
      "validation accuracy, iter. 200:  0.79229\n",
      "training accuracy, iter. 210:  0.79883\n",
      "validation accuracy, iter. 210:  0.79673\n",
      "training accuracy, iter. 220:  0.79443\n",
      "validation accuracy, iter. 220:  0.78104\n",
      "training accuracy, iter. 230:  0.79688\n",
      "validation accuracy, iter. 230:  0.79651\n",
      "training accuracy, iter. 240:  0.7666\n",
      "validation accuracy, iter. 240:  0.79244\n",
      "training accuracy, iter. 250:  0.78418\n",
      "validation accuracy, iter. 250:  0.78815\n",
      "training accuracy, iter. 260:  0.78809\n",
      "validation accuracy, iter. 260:  0.79518\n",
      "training accuracy, iter. 270:  0.80664\n",
      "validation accuracy, iter. 270:  0.79851\n",
      "training accuracy, iter. 280:  0.75684\n",
      "validation accuracy, iter. 280:  0.79214\n",
      "training accuracy, iter. 290:  0.80615\n",
      "validation accuracy, iter. 290:  0.79976\n",
      "training accuracy, iter. 300:  0.78271\n",
      "validation accuracy, iter. 300:  0.79791\n",
      "training accuracy, iter. 310:  0.79248\n",
      "validation accuracy, iter. 310:  0.79917\n",
      "training accuracy, iter. 320:  0.78027\n",
      "validation accuracy, iter. 320:  0.77327\n",
      "training accuracy, iter. 330:  0.79004\n",
      "validation accuracy, iter. 330:  0.79917\n",
      "training accuracy, iter. 340:  0.78418\n",
      "validation accuracy, iter. 340:  0.79503\n",
      "training accuracy, iter. 350:  0.80713\n",
      "validation accuracy, iter. 350:  0.79288\n",
      "training accuracy, iter. 360:  0.78662\n",
      "validation accuracy, iter. 360:  0.79666\n",
      "training accuracy, iter. 370:  0.79883\n",
      "validation accuracy, iter. 370:  0.80036\n",
      "training accuracy, iter. 380:  0.80029\n",
      "validation accuracy, iter. 380:  0.8005\n",
      "training accuracy, iter. 390:  0.80078\n",
      "validation accuracy, iter. 390:  0.79606\n",
      "training accuracy, iter. 400:  0.78271\n",
      "validation accuracy, iter. 400:  0.8005\n",
      "training accuracy, iter. 410:  0.79639\n",
      "validation accuracy, iter. 410:  0.80013\n",
      "training accuracy, iter. 420:  0.79053\n",
      "validation accuracy, iter. 420:  0.77009\n",
      "training accuracy, iter. 430:  0.79004\n",
      "validation accuracy, iter. 430:  0.80036\n",
      "training accuracy, iter. 440:  0.79541\n",
      "validation accuracy, iter. 440:  0.79917\n",
      "training accuracy, iter. 450:  0.80273\n",
      "validation accuracy, iter. 450:  0.7991\n",
      "training accuracy, iter. 460:  0.80078\n",
      "validation accuracy, iter. 460:  0.80058\n",
      "training accuracy, iter. 470:  0.77686\n",
      "validation accuracy, iter. 470:  0.79651\n",
      "training accuracy, iter. 480:  0.80811\n",
      "validation accuracy, iter. 480:  0.80087\n",
      "training accuracy, iter. 490:  0.79785\n",
      "validation accuracy, iter. 490:  0.80132\n",
      "training accuracy, iter. 500:  0.80127\n",
      "validation accuracy, iter. 500:  0.79577\n",
      "Training Complete!\n"
     ]
    }
   ],
   "source": [
    "num_iterations=500\n",
    "learning_rate=9e-1\n",
    "batch_size=2048\n",
    "\n",
    "network.train(num_iterations=num_iterations, batch_size=batch_size, learning_rate=learning_rate)"
   ]
  },
  {
   "cell_type": "markdown",
   "metadata": {},
   "source": [
    "Evaluate the network using the test set."
   ]
  },
  {
   "cell_type": "code",
   "execution_count": 29,
   "metadata": {},
   "outputs": [
    {
     "name": "stdout",
     "output_type": "stream",
     "text": [
      "0.788948069241012\n"
     ]
    }
   ],
   "source": [
    "print(network.evaluate(X=x_test,Y=y_test, metric=\"accuracy\"))"
   ]
  },
  {
   "cell_type": "markdown",
   "metadata": {},
   "source": [
    "plotting the training and validation costs."
   ]
  },
  {
   "cell_type": "code",
   "execution_count": 26,
   "metadata": {},
   "outputs": [
    {
     "name": "stderr",
     "output_type": "stream",
     "text": [
      "C:\\Users\\princ\\Anaconda3\\lib\\site-packages\\ipykernel_launcher.py:13: UserWarning: Matplotlib is currently using module://ipykernel.pylab.backend_inline, which is a non-GUI backend, so cannot show the figure.\n",
      "  del sys.path[0]\n"
     ]
    },
    {
     "data": {
      "image/png": "[encoded data removed]",
      "text/plain": [
       "<Figure size 432x288 with 1 Axes>"
      ]
     },
     "metadata": {
      "needs_background": "light"
     },
     "output_type": "display_data"
    }
   ],
   "source": [
    "x_plot=list(archiver.all_training_costs.keys())\n",
    "\n",
    "fig, ax = pyplot.subplots(1, 1)\n",
    "\n",
    "ax.plot(x_plot,list(archiver.all_training_costs.values()), label=\"training\")\n",
    "ax.plot(x_plot,list(archiver.all_validation_costs.values()), label=\"validation\")\n",
    "\n",
    "\n",
    "ax.set_ylabel('Cost')\n",
    "ax.set_xlabel('Num of iterations')\n",
    "ax.set_title(\"Learning rate =\" + str(learning_rate))\n",
    "ax.legend()\n",
    "fig.show()"
   ]
  },
  {
   "cell_type": "markdown",
   "metadata": {},
   "source": [
    "Plot the training and validation accuracies"
   ]
  },
  {
   "cell_type": "code",
   "execution_count": 27,
   "metadata": {},
   "outputs": [
    {
     "name": "stderr",
     "output_type": "stream",
     "text": [
      "C:\\Users\\princ\\Anaconda3\\lib\\site-packages\\ipykernel_launcher.py:12: UserWarning: Matplotlib is currently using module://ipykernel.pylab.backend_inline, which is a non-GUI backend, so cannot show the figure.\n",
      "  if sys.path[0] == '':\n"
     ]
    },
    {
     "data": {
      "image/png": "[encoded data removed]",
      "text/plain": [
       "<Figure size 432x288 with 1 Axes>"
      ]
     },
     "metadata": {
      "needs_background": "light"
     },
     "output_type": "display_data"
    }
   ],
   "source": [
    "\n",
    "x_plot=list(archiver.all_training_accuracies.keys())\n",
    "\n",
    "fig, ax = pyplot.subplots(1, 1)\n",
    "\n",
    "ax.plot(x_plot,list(archiver.all_training_accuracies.values()), label=\"training\")\n",
    "ax.plot(x_plot,list(archiver.all_validation_accuracies.values()), label= \"validation\")\n",
    "\n",
    "ax.set_ylabel('Accuracies')\n",
    "ax.set_xlabel('Num of iterations')\n",
    "ax.set_title(\"Learning rate =\" + str(learning_rate))\n",
    "ax.legend()\n",
    "fig.show()"
   ]
  },
  {
   "cell_type": "code",
   "execution_count": null,
   "metadata": {},
   "outputs": [],
   "source": []
  }
 ],
 "metadata": {
  "kernelspec": {
   "display_name": "Python 3",
   "language": "python",
   "name": "python3"
  },
  "language_info": {
   "codemirror_mode": {
    "name": "ipython",
    "version": 3
   },
   "file_extension": ".py",
   "mimetype": "text/x-python",
   "name": "python",
   "nbconvert_exporter": "python",
   "pygments_lexer": "ipython3",
   "version": "3.6.9"
  }
 },
 "nbformat": 4,
 "nbformat_minor": 2
}
