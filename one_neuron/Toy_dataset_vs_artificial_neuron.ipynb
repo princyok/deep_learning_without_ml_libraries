{
 "cells": [
  {
   "cell_type": "markdown",
   "metadata": {},
   "source": [
    "# Demonstration using toy dataset\n",
    "\n",
    "The toy dataset includes the following variables: velocity, mass and mechanical energy level (high or low). The dataset was generated using the equation for kinetic energy plus a Gaussian noise.\n",
    "\n",
    "**This Jupyter notebook will put to the test the artificial neuron that was written from scratch without dependence on any ML libraries.**"
   ]
  },
  {
   "cell_type": "code",
   "execution_count": 55,
   "metadata": {},
   "outputs": [],
   "source": [
    "import artificial_neuron as an\n",
    "import pandas as pd\n",
    "from sklearn import model_selection"
   ]
  },
  {
   "cell_type": "code",
   "execution_count": 56,
   "metadata": {},
   "outputs": [],
   "source": [
    "data=pd.read_csv(\"../datasets/toy_dataset1/toy_dataset_velocity_ke.csv\")\n"
   ]
  },
  {
   "cell_type": "code",
   "execution_count": 57,
   "metadata": {
    "scrolled": true
   },
   "outputs": [
    {
     "data": {
      "text/html": [
       "<div>\n",
       "<style scoped>\n",
       "    .dataframe tbody tr th:only-of-type {\n",
       "        vertical-align: middle;\n",
       "    }\n",
       "\n",
       "    .dataframe tbody tr th {\n",
       "        vertical-align: top;\n",
       "    }\n",
       "\n",
       "    .dataframe thead th {\n",
       "        text-align: right;\n",
       "    }\n",
       "</style>\n",
       "<table border=\"1\" class=\"dataframe\">\n",
       "  <thead>\n",
       "    <tr style=\"text-align: right;\">\n",
       "      <th></th>\n",
       "      <th>velocity</th>\n",
       "      <th>mass</th>\n",
       "      <th>kinetic_energy_int</th>\n",
       "      <th>kinetic_energy_str</th>\n",
       "    </tr>\n",
       "  </thead>\n",
       "  <tbody>\n",
       "    <tr>\n",
       "      <td>0</td>\n",
       "      <td>9.968406</td>\n",
       "      <td>49.089165</td>\n",
       "      <td>1</td>\n",
       "      <td>high</td>\n",
       "    </tr>\n",
       "    <tr>\n",
       "      <td>1</td>\n",
       "      <td>9.278618</td>\n",
       "      <td>3.177903</td>\n",
       "      <td>0</td>\n",
       "      <td>low</td>\n",
       "    </tr>\n",
       "    <tr>\n",
       "      <td>2</td>\n",
       "      <td>6.708523</td>\n",
       "      <td>10.938375</td>\n",
       "      <td>0</td>\n",
       "      <td>low</td>\n",
       "    </tr>\n",
       "    <tr>\n",
       "      <td>3</td>\n",
       "      <td>5.257150</td>\n",
       "      <td>8.881870</td>\n",
       "      <td>0</td>\n",
       "      <td>low</td>\n",
       "    </tr>\n",
       "    <tr>\n",
       "      <td>4</td>\n",
       "      <td>0.071480</td>\n",
       "      <td>16.628734</td>\n",
       "      <td>0</td>\n",
       "      <td>low</td>\n",
       "    </tr>\n",
       "  </tbody>\n",
       "</table>\n",
       "</div>"
      ],
      "text/plain": [
       "   velocity       mass  kinetic_energy_int kinetic_energy_str\n",
       "0  9.968406  49.089165                   1               high\n",
       "1  9.278618   3.177903                   0                low\n",
       "2  6.708523  10.938375                   0                low\n",
       "3  5.257150   8.881870                   0                low\n",
       "4  0.071480  16.628734                   0                low"
      ]
     },
     "execution_count": 57,
     "metadata": {},
     "output_type": "execute_result"
    }
   ],
   "source": [
    "data.head()"
   ]
  },
  {
   "cell_type": "code",
   "execution_count": 58,
   "metadata": {},
   "outputs": [],
   "source": [
    "data.drop(columns=[\"kinetic_energy_str\"], inplace=True)"
   ]
  },
  {
   "cell_type": "markdown",
   "metadata": {},
   "source": [
    "Split into train and test sets, and also seperate into features (x) and target (y). Also ensure the shape of the input and output tensors are as expected. For features: num_features x batch_size. For target: 1 x batch_size."
   ]
  },
  {
   "cell_type": "code",
   "execution_count": 59,
   "metadata": {},
   "outputs": [],
   "source": [
    "data_train, data_test = model_selection.train_test_split(data.to_numpy(), train_size=0.8, random_state=5)"
   ]
  },
  {
   "cell_type": "code",
   "execution_count": 60,
   "metadata": {},
   "outputs": [
    {
     "name": "stdout",
     "output_type": "stream",
     "text": [
      "(2400, 3)\n",
      "(600, 3)\n"
     ]
    }
   ],
   "source": [
    "print(data_train.shape)\n",
    "print(data_test.shape)"
   ]
  },
  {
   "cell_type": "code",
   "execution_count": 61,
   "metadata": {},
   "outputs": [
    {
     "name": "stdout",
     "output_type": "stream",
     "text": [
      "(3, 2400)\n",
      "(3, 600)\n"
     ]
    }
   ],
   "source": [
    "data_train=data_train.T\n",
    "data_test=data_test.T\n",
    "\n",
    "print(data_train.shape)\n",
    "print(data_test.shape)"
   ]
  },
  {
   "cell_type": "code",
   "execution_count": 62,
   "metadata": {},
   "outputs": [],
   "source": [
    "x_train=data_train[0:2, :]\n",
    "y_train=data_train[2, :].reshape(1,-1)\n",
    "\n",
    "x_test=data_test[0:2, :]\n",
    "y_test=data_test[2, :].reshape(1,-1)"
   ]
  },
  {
   "cell_type": "markdown",
   "metadata": {},
   "source": [
    "# Training and evaluation\n",
    "\n",
    "Just start with some randomly chosen hyperparameters:\n",
    "\n",
    "* number of iterations: 10\n",
    "\n",
    "* learning rate (step size): 0.00007\n",
    "\n",
    "* batch size: 256"
   ]
  },
  {
   "cell_type": "code",
   "execution_count": 63,
   "metadata": {},
   "outputs": [
    {
     "name": "stdout",
     "output_type": "stream",
     "text": [
      "Training begins...\n",
      "Training Complete!\n",
      "iteration no. 50\n",
      "training accuracy:  0.7654166666666666\n",
      "test accuracy:  0.7633333333333333\n",
      "\n",
      "Training begins...\n",
      "Training Complete!\n",
      "iteration no. 100\n",
      "training accuracy:  0.8345833333333333\n",
      "test accuracy:  0.8366666666666667\n",
      "\n",
      "Training begins...\n",
      "Training Complete!\n",
      "iteration no. 200\n",
      "training accuracy:  0.9029166666666667\n",
      "test accuracy:  0.8983333333333333\n",
      "\n",
      "Training begins...\n",
      "Training Complete!\n",
      "iteration no. 500\n",
      "training accuracy:  0.9258333333333333\n",
      "test accuracy:  0.9316666666666666\n",
      "\n",
      "Training begins...\n",
      "Training Complete!\n",
      "iteration no. 2000\n",
      "training accuracy:  0.9308333333333333\n",
      "test accuracy:  0.9366666666666666\n",
      "\n"
     ]
    }
   ],
   "source": [
    "iterations=[50, 100, 200, 500, 2000]\n",
    "for i in iterations:\n",
    "    neuron=an.Neuron(X=x_train, Y=y_train)\n",
    "    neuron.train(num_iterations=i, learning_rate=7e-3, batch_size=1024)\n",
    "    \n",
    "    print(\"iteration no.\", i)\n",
    "    print(\"training accuracy: \", neuron.evaluate(X=x_train, Y=y_train, metric=\"accuracy\"))\n",
    "    print(\"test accuracy: \", neuron.evaluate(X=x_test, Y=y_test, metric=\"accuracy\"), end=\"\\n\\n\")"
   ]
  },
  {
   "cell_type": "code",
   "execution_count": null,
   "metadata": {},
   "outputs": [],
   "source": []
  }
 ],
 "metadata": {
  "kernelspec": {
   "display_name": "Python 3",
   "language": "python",
   "name": "python3"
  },
  "language_info": {
   "codemirror_mode": {
    "name": "ipython",
    "version": 3
   },
   "file_extension": ".py",
   "mimetype": "text/x-python",
   "name": "python",
   "nbconvert_exporter": "python",
   "pygments_lexer": "ipython3",
   "version": "3.6.9"
  }
 },
 "nbformat": 4,
 "nbformat_minor": 2
}
