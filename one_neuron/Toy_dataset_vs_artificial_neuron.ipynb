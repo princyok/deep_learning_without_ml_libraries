{
 "cells": [
  {
   "cell_type": "markdown",
   "metadata": {},
   "source": [
    "# Demonstration using toy dataset\n",
    "\n",
    "The toy dataset includes the following variables: velocity, mass and mechanical energy level (high or low). The dataset was generated using the equation for kinetic energy plus a Gaussian noise.\n",
    "\n",
    "**This Jupyter notebook will put to the test the artificial neuron that was written from scratch without dependence on any ML libraries.**"
   ]
  },
  {
   "cell_type": "code",
   "execution_count": 1,
   "metadata": {},
   "outputs": [],
   "source": [
    "import artificial_neuron as an\n",
    "import pandas as pd\n",
    "from sklearn import model_selection"
   ]
  },
  {
   "cell_type": "code",
   "execution_count": 2,
   "metadata": {},
   "outputs": [],
   "source": [
    "data=pd.read_csv(\"../datasets/toy_dataset1/toy_dataset_velocity_ke.csv\")\n"
   ]
  },
  {
   "cell_type": "code",
   "execution_count": 3,
   "metadata": {
    "scrolled": true
   },
   "outputs": [
    {
     "data": {
      "text/html": [
       "<div>\n",
       "<style scoped>\n",
       "    .dataframe tbody tr th:only-of-type {\n",
       "        vertical-align: middle;\n",
       "    }\n",
       "\n",
       "    .dataframe tbody tr th {\n",
       "        vertical-align: top;\n",
       "    }\n",
       "\n",
       "    .dataframe thead th {\n",
       "        text-align: right;\n",
       "    }\n",
       "</style>\n",
       "<table border=\"1\" class=\"dataframe\">\n",
       "  <thead>\n",
       "    <tr style=\"text-align: right;\">\n",
       "      <th></th>\n",
       "      <th>velocity</th>\n",
       "      <th>mass</th>\n",
       "      <th>energy_level</th>\n",
       "      <th>energy_level_string</th>\n",
       "    </tr>\n",
       "  </thead>\n",
       "  <tbody>\n",
       "    <tr>\n",
       "      <td>0</td>\n",
       "      <td>6.5233</td>\n",
       "      <td>1.5484</td>\n",
       "      <td>0</td>\n",
       "      <td>low</td>\n",
       "    </tr>\n",
       "    <tr>\n",
       "      <td>1</td>\n",
       "      <td>9.2112</td>\n",
       "      <td>12.7141</td>\n",
       "      <td>1</td>\n",
       "      <td>high</td>\n",
       "    </tr>\n",
       "    <tr>\n",
       "      <td>2</td>\n",
       "      <td>1.7315</td>\n",
       "      <td>45.6200</td>\n",
       "      <td>0</td>\n",
       "      <td>low</td>\n",
       "    </tr>\n",
       "    <tr>\n",
       "      <td>3</td>\n",
       "      <td>6.2063</td>\n",
       "      <td>48.5087</td>\n",
       "      <td>1</td>\n",
       "      <td>high</td>\n",
       "    </tr>\n",
       "    <tr>\n",
       "      <td>4</td>\n",
       "      <td>1.0663</td>\n",
       "      <td>12.3310</td>\n",
       "      <td>0</td>\n",
       "      <td>low</td>\n",
       "    </tr>\n",
       "  </tbody>\n",
       "</table>\n",
       "</div>"
      ],
      "text/plain": [
       "   velocity     mass  energy_level energy_level_string\n",
       "0    6.5233   1.5484             0                 low\n",
       "1    9.2112  12.7141             1                high\n",
       "2    1.7315  45.6200             0                 low\n",
       "3    6.2063  48.5087             1                high\n",
       "4    1.0663  12.3310             0                 low"
      ]
     },
     "execution_count": 3,
     "metadata": {},
     "output_type": "execute_result"
    }
   ],
   "source": [
    "data.head()"
   ]
  },
  {
   "cell_type": "code",
   "execution_count": 4,
   "metadata": {},
   "outputs": [],
   "source": [
    "data.drop(columns=[\"energy_level_string\"], inplace=True)"
   ]
  },
  {
   "cell_type": "markdown",
   "metadata": {},
   "source": [
    "Split into train and test sets, and also seperate into features (x) and target (y). Also ensure the shape of the input and output tensors are as expected. For features: num_features x batch_size. For target: 1 x batch_size."
   ]
  },
  {
   "cell_type": "code",
   "execution_count": 5,
   "metadata": {},
   "outputs": [],
   "source": [
    "data_train, data_test = model_selection.train_test_split(data.to_numpy(), train_size=0.8, random_state=5)"
   ]
  },
  {
   "cell_type": "code",
   "execution_count": 6,
   "metadata": {},
   "outputs": [
    {
     "name": "stdout",
     "output_type": "stream",
     "text": [
      "(2400, 3)\n",
      "(600, 3)\n"
     ]
    }
   ],
   "source": [
    "print(data_train.shape)\n",
    "print(data_test.shape)"
   ]
  },
  {
   "cell_type": "code",
   "execution_count": 7,
   "metadata": {},
   "outputs": [
    {
     "name": "stdout",
     "output_type": "stream",
     "text": [
      "(3, 2400)\n",
      "(3, 600)\n"
     ]
    }
   ],
   "source": [
    "data_train=data_train.T\n",
    "data_test=data_test.T\n",
    "\n",
    "print(data_train.shape)\n",
    "print(data_test.shape)"
   ]
  },
  {
   "cell_type": "code",
   "execution_count": 8,
   "metadata": {},
   "outputs": [],
   "source": [
    "x_train=data_train[0:2, :]\n",
    "y_train=data_train[2, :].reshape(1,-1)\n",
    "\n",
    "x_test=data_test[0:2, :]\n",
    "y_test=data_test[2, :].reshape(1,-1)"
   ]
  },
  {
   "cell_type": "markdown",
   "metadata": {},
   "source": [
    "# Training and evaluation\n",
    "\n",
    "Just start with some randomly chosen hyperparameters:\n",
    "\n",
    "* learning rate (step size): 0.007\n",
    "\n",
    "* batch size: 1024\n",
    "\n",
    "* number of iterations: 50 (and then try 100, 200, 500, 2000).\n"
   ]
  },
  {
   "cell_type": "code",
   "execution_count": 9,
   "metadata": {},
   "outputs": [
    {
     "name": "stdout",
     "output_type": "stream",
     "text": [
      "Training begins...\n",
      "Training Complete!\n",
      "iteration no. 50\n",
      "training accuracy:  0.5554166666666667\n",
      "test accuracy:      0.5483333333333333\n",
      "\n",
      "Training begins...\n",
      "Training Complete!\n",
      "iteration no. 100\n",
      "training accuracy:  0.6825\n",
      "test accuracy:      0.6916666666666667\n",
      "\n",
      "Training begins...\n",
      "Training Complete!\n",
      "iteration no. 200\n",
      "training accuracy:  0.6995833333333333\n",
      "test accuracy:      0.7083333333333334\n",
      "\n",
      "Training begins...\n",
      "Training Complete!\n",
      "iteration no. 500\n",
      "training accuracy:  0.7525\n",
      "test accuracy:      0.7766666666666666\n",
      "\n",
      "Training begins...\n",
      "Training Complete!\n",
      "iteration no. 2000\n",
      "training accuracy:  0.8845833333333334\n",
      "test accuracy:      0.8933333333333333\n",
      "\n"
     ]
    }
   ],
   "source": [
    "iterations=[50, 100, 200, 500, 2000]\n",
    "for i in iterations:\n",
    "    neuron=an.Neuron(X=x_train, Y=y_train)\n",
    "    neuron.train(num_iterations=i, learning_rate=7e-3, batch_size=1024)\n",
    "    \n",
    "    print(\"iteration no.\", i)\n",
    "    print(\"training accuracy: \", neuron.evaluate(X=x_train, Y=y_train, metric=\"accuracy\"))\n",
    "    print(\"test accuracy:     \", neuron.evaluate(X=x_test, Y=y_test, metric=\"accuracy\"), end=\"\\n\\n\")"
   ]
  },
  {
   "cell_type": "markdown",
   "metadata": {},
   "source": [
    "\n",
    "* learning rate (step size): 0.07\n",
    "\n",
    "* batch size: 32\n",
    "\n",
    "* number of iterations: 50 (and then try 100, 200, 500, 2000)."
   ]
  },
  {
   "cell_type": "code",
   "execution_count": 10,
   "metadata": {},
   "outputs": [
    {
     "name": "stdout",
     "output_type": "stream",
     "text": [
      "Training begins...\n",
      "Training Complete!\n",
      "iteration no. 50\n",
      "training accuracy:  0.6154166666666666\n",
      "test accuracy:      0.635\n",
      "\n",
      "Training begins...\n",
      "Training Complete!\n",
      "iteration no. 100\n",
      "training accuracy:  0.8595833333333334\n",
      "test accuracy:      0.855\n",
      "\n",
      "Training begins...\n",
      "Training Complete!\n",
      "iteration no. 200\n",
      "training accuracy:  0.8454166666666667\n",
      "test accuracy:      0.845\n",
      "\n",
      "Training begins...\n",
      "Training Complete!\n",
      "iteration no. 500\n",
      "training accuracy:  0.9166666666666666\n",
      "test accuracy:      0.8983333333333333\n",
      "\n",
      "Training begins...\n",
      "Training Complete!\n",
      "iteration no. 2000\n",
      "training accuracy:  0.93375\n",
      "test accuracy:      0.92\n",
      "\n"
     ]
    }
   ],
   "source": [
    "iterations=[50, 100, 200, 500, 2000]\n",
    "for i in iterations:\n",
    "    neuron=an.Neuron(X=x_train, Y=y_train)\n",
    "    neuron.train(num_iterations=i, learning_rate=7e-2, batch_size=32)\n",
    "    \n",
    "    print(\"iteration no.\", i)\n",
    "    print(\"training accuracy: \", neuron.evaluate(X=x_train, Y=y_train, metric=\"accuracy\"))\n",
    "    print(\"test accuracy:     \", neuron.evaluate(X=x_test, Y=y_test, metric=\"accuracy\"), end=\"\\n\\n\")"
   ]
  },
  {
   "cell_type": "code",
   "execution_count": null,
   "metadata": {},
   "outputs": [],
   "source": []
  }
 ],
 "metadata": {
  "kernelspec": {
   "display_name": "Python 3",
   "language": "python",
   "name": "python3"
  },
  "language_info": {
   "codemirror_mode": {
    "name": "ipython",
    "version": 3
   },
   "file_extension": ".py",
   "mimetype": "text/x-python",
   "name": "python",
   "nbconvert_exporter": "python",
   "pygments_lexer": "ipython3",
   "version": "3.6.9"
  }
 },
 "nbformat": 4,
 "nbformat_minor": 2
}
